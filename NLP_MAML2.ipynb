{
 "cells": [
  {
   "metadata": {
    "ExecuteTime": {
     "end_time": "2025-01-22T20:09:18.850795Z",
     "start_time": "2025-01-22T20:09:08.654802Z"
    }
   },
   "cell_type": "code",
   "source": [
    "import torch\n",
    "from transformers import DistilBertForSequenceClassification, DistilBertTokenizer\n",
    "from torch.utils.data import Dataset\n",
    "from torch import nn\n",
    "from torch.optim import Adam\n",
    "from datasets import load_dataset\n",
    "import random\n",
    "from copy import deepcopy\n",
    "import wandb\n"
   ],
   "id": "daceca4ef779ee1f",
   "outputs": [],
   "execution_count": 1
  },
  {
   "metadata": {
    "ExecuteTime": {
     "end_time": "2025-01-22T20:09:21.828131Z",
     "start_time": "2025-01-22T20:09:18.850795Z"
    }
   },
   "cell_type": "code",
   "source": [
    "# Initialize W&B\n",
    "wandb.init(\n",
    "    project=\"few-shot-yelp\",\n",
    "    name=\"maml-yelp-few-shot\",\n",
    "    config={\n",
    "        \"num_support\": 5,\n",
    "        \"num_query\": 5,\n",
    "        \"meta_epochs\": 3,\n",
    "        \"batch_size\": 2,\n",
    "        \"inner_steps\": 1,\n",
    "        \"meta_lr\": 1e-4,\n",
    "        \"inner_lr\": 1e-5\n",
    "    }\n",
    ")"
   ],
   "id": "1416990c03018051",
   "outputs": [
    {
     "name": "stderr",
     "output_type": "stream",
     "text": [
      "wandb: Currently logged in as: kostic-stojan23 (kostic-stojan23-university-of-belgrade). Use `wandb login --relogin` to force relogin\n",
      "wandb: Using wandb-core as the SDK backend.  Please refer to https://wandb.me/wandb-core for more information.\n"
     ]
    },
    {
     "data": {
      "text/plain": [
       "<IPython.core.display.HTML object>"
      ],
      "text/html": [
       "Tracking run with wandb version 0.19.4"
      ]
     },
     "metadata": {},
     "output_type": "display_data"
    },
    {
     "data": {
      "text/plain": [
       "<IPython.core.display.HTML object>"
      ],
      "text/html": [
       "Run data is saved locally in <code>C:\\Users\\Korisnik\\Desktop\\RI_projekat\\wandb\\run-20250122_210920-0bdco63p</code>"
      ]
     },
     "metadata": {},
     "output_type": "display_data"
    },
    {
     "data": {
      "text/plain": [
       "<IPython.core.display.HTML object>"
      ],
      "text/html": [
       "Syncing run <strong><a href='https://wandb.ai/kostic-stojan23-university-of-belgrade/few-shot-yelp/runs/0bdco63p' target=\"_blank\">maml-yelp-few-shot</a></strong> to <a href='https://wandb.ai/kostic-stojan23-university-of-belgrade/few-shot-yelp' target=\"_blank\">Weights & Biases</a> (<a href='https://wandb.me/developer-guide' target=\"_blank\">docs</a>)<br>"
      ]
     },
     "metadata": {},
     "output_type": "display_data"
    },
    {
     "data": {
      "text/plain": [
       "<IPython.core.display.HTML object>"
      ],
      "text/html": [
       " View project at <a href='https://wandb.ai/kostic-stojan23-university-of-belgrade/few-shot-yelp' target=\"_blank\">https://wandb.ai/kostic-stojan23-university-of-belgrade/few-shot-yelp</a>"
      ]
     },
     "metadata": {},
     "output_type": "display_data"
    },
    {
     "data": {
      "text/plain": [
       "<IPython.core.display.HTML object>"
      ],
      "text/html": [
       " View run at <a href='https://wandb.ai/kostic-stojan23-university-of-belgrade/few-shot-yelp/runs/0bdco63p' target=\"_blank\">https://wandb.ai/kostic-stojan23-university-of-belgrade/few-shot-yelp/runs/0bdco63p</a>"
      ]
     },
     "metadata": {},
     "output_type": "display_data"
    },
    {
     "data": {
      "text/html": [
       "<button onClick=\"this.nextSibling.style.display='block';this.style.display='none';\">Display W&B run</button><iframe src='https://wandb.ai/kostic-stojan23-university-of-belgrade/few-shot-yelp/runs/0bdco63p?jupyter=true' style='border:none;width:100%;height:420px;display:none;'></iframe>"
      ],
      "text/plain": [
       "<wandb.sdk.wandb_run.Run at 0x24d38979580>"
      ]
     },
     "execution_count": 2,
     "metadata": {},
     "output_type": "execute_result"
    }
   ],
   "execution_count": 2
  },
  {
   "metadata": {
    "ExecuteTime": {
     "end_time": "2025-01-22T20:09:22.676330Z",
     "start_time": "2025-01-22T20:09:22.050787Z"
    }
   },
   "cell_type": "code",
   "source": [
    "# Load fine-tuned model and tokenizer\n",
    "model_path = \"NLP_VER1\"\n",
    "base_model = DistilBertForSequenceClassification.from_pretrained(model_path)\n",
    "tokenizer = DistilBertTokenizer.from_pretrained(\"distilbert-base-uncased\")"
   ],
   "id": "274c0bd9e333514b",
   "outputs": [],
   "execution_count": 3
  },
  {
   "metadata": {
    "ExecuteTime": {
     "end_time": "2025-01-22T20:09:30.344560Z",
     "start_time": "2025-01-22T20:09:22.696626Z"
    }
   },
   "cell_type": "code",
   "source": [
    "# Load Yelp Polarity Dataset\n",
    "dataset = load_dataset(\"yelp_polarity\")\n",
    "train_data = dataset[\"train\"]\n",
    "test_data = dataset[\"test\"]"
   ],
   "id": "318e13a06079d143",
   "outputs": [],
   "execution_count": 4
  },
  {
   "metadata": {
    "ExecuteTime": {
     "end_time": "2025-01-22T20:09:30.366344Z",
     "start_time": "2025-01-22T20:09:30.358820Z"
    }
   },
   "cell_type": "code",
   "source": [
    "# Few-Shot Dataset for Yelp\n",
    "class FewShotDataset(Dataset):\n",
    "    def __init__(self, data, num_support, num_query):\n",
    "        self.data = data\n",
    "        self.num_support = num_support\n",
    "        self.num_query = num_query\n",
    "\n",
    "    def get_task(self):\n",
    "        indices = list(range(len(self.data)))\n",
    "        random.shuffle(indices)\n",
    "\n",
    "        support_indices = indices[:self.num_support]\n",
    "        query_indices = indices[self.num_support:self.num_support + self.num_query]\n",
    "\n",
    "        support_set = [(self.data[i]['text'], self.data[i]['label']) for i in support_indices]\n",
    "        query_set = [(self.data[i]['text'], self.data[i]['label']) for i in query_indices]\n",
    "\n",
    "        return support_set, query_set"
   ],
   "id": "ffc8969d253b17fe",
   "outputs": [],
   "execution_count": 5
  },
  {
   "metadata": {
    "ExecuteTime": {
     "end_time": "2025-01-22T20:09:30.390002Z",
     "start_time": "2025-01-22T20:09:30.381924Z"
    }
   },
   "cell_type": "code",
   "source": [
    "# Inner loop: Task adaptation\n",
    "def inner_loop(model, support_set, num_steps=1, lr=1e-5):\n",
    "    task_model = deepcopy(model)\n",
    "    optimizer = Adam(task_model.parameters(), lr=lr)\n",
    "    loss_fn = nn.CrossEntropyLoss()\n",
    "\n",
    "    for _ in range(num_steps):\n",
    "        for text, label in support_set:\n",
    "            inputs = tokenizer(text, return_tensors=\"pt\", truncation=True, padding=True)\n",
    "            labels = torch.tensor([label])\n",
    "\n",
    "            outputs = task_model(**inputs, labels=labels)\n",
    "            loss = outputs.loss\n",
    "\n",
    "            optimizer.zero_grad()\n",
    "            loss.backward()\n",
    "            optimizer.step()\n",
    "\n",
    "    return task_model"
   ],
   "id": "a41157fd8ec918b0",
   "outputs": [],
   "execution_count": 6
  },
  {
   "metadata": {
    "ExecuteTime": {
     "end_time": "2025-01-22T20:09:30.414727Z",
     "start_time": "2025-01-22T20:09:30.405996Z"
    }
   },
   "cell_type": "code",
   "source": [
    "# Outer loop: Meta-training\n",
    "def outer_loop(meta_model, tasks, meta_optimizer, num_inner_steps=1):\n",
    "    meta_optimizer.zero_grad()\n",
    "    total_loss = 0\n",
    "\n",
    "    for support_set, query_set in tasks:\n",
    "        task_model = inner_loop(meta_model, support_set, num_steps=num_inner_steps)\n",
    "\n",
    "        for text, label in query_set:\n",
    "            inputs = tokenizer(text, return_tensors=\"pt\", truncation=True, padding=True)\n",
    "            labels = torch.tensor([label])\n",
    "\n",
    "            outputs = task_model(**inputs, labels=labels)\n",
    "            loss = outputs.loss\n",
    "            total_loss += loss\n",
    "\n",
    "    total_loss.backward()\n",
    "    meta_optimizer.step()\n",
    "\n",
    "    return total_loss.item()"
   ],
   "id": "6a4da780199ebc16",
   "outputs": [],
   "execution_count": 7
  },
  {
   "metadata": {
    "ExecuteTime": {
     "end_time": "2025-01-22T20:09:56.899598Z",
     "start_time": "2025-01-22T20:09:30.428165Z"
    }
   },
   "cell_type": "code",
   "source": [
    "# Create Few-Shot Dataset\n",
    "num_support = wandb.config.num_support\n",
    "num_query = wandb.config.num_query\n",
    "few_shot_dataset = FewShotDataset(train_data, num_support, num_query)\n",
    "\n",
    "# Define meta-optimizer\n",
    "meta_optimizer = Adam(base_model.parameters(), lr=wandb.config.meta_lr)\n",
    "\n",
    "# Meta-training loop\n",
    "meta_epochs = wandb.config.meta_epochs\n",
    "batch_size = wandb.config.batch_size\n",
    "inner_steps = wandb.config.inner_steps\n",
    "\n",
    "for epoch in range(meta_epochs):\n",
    "    tasks = [few_shot_dataset.get_task() for _ in range(batch_size)]\n",
    "    loss = outer_loop(base_model, tasks, meta_optimizer, num_inner_steps=inner_steps)\n",
    "\n",
    "    wandb.log({\"epoch\": epoch + 1, \"meta_loss\": loss})\n",
    "    print(f\"Epoch {epoch + 1}, Meta Loss: {loss:.4f}\")"
   ],
   "id": "b2747ba95e415a3b",
   "outputs": [
    {
     "name": "stdout",
     "output_type": "stream",
     "text": [
      "Epoch 1, Meta Loss: 5.7888\n",
      "Epoch 2, Meta Loss: 1.0674\n",
      "Epoch 3, Meta Loss: 1.5546\n"
     ]
    }
   ],
   "execution_count": 8
  },
  {
   "metadata": {
    "ExecuteTime": {
     "end_time": "2025-01-22T20:10:02.204638Z",
     "start_time": "2025-01-22T20:09:56.916977Z"
    }
   },
   "cell_type": "code",
   "source": [
    "# Evaluate on a new Few-Shot task\n",
    "new_task_data = FewShotDataset(test_data, num_support=5, num_query=5)\n",
    "new_support_set, new_query_set = new_task_data.get_task()\n",
    "\n",
    "adapted_model = inner_loop(base_model, new_support_set, num_steps=inner_steps)\n",
    "total_loss = 0\n",
    "\n",
    "for text, label in new_query_set:\n",
    "    inputs = tokenizer(text, return_tensors=\"pt\", truncation=True, padding=True)\n",
    "    labels = torch.tensor([label])\n",
    "\n",
    "    outputs = adapted_model(**inputs, labels=labels)\n",
    "    loss = outputs.loss\n",
    "    total_loss += loss\n",
    "\n",
    "wandb.log({\"new_task_loss\": total_loss.item()})\n",
    "print(f\"New Task Evaluation Loss: {total_loss.item():.4f}\")\n",
    "\n",
    "# Finish W&B logging\n",
    "wandb.finish()"
   ],
   "id": "fc6d84f66e0f1ed9",
   "outputs": [
    {
     "name": "stdout",
     "output_type": "stream",
     "text": [
      "New Task Evaluation Loss: 0.2210\n"
     ]
    },
    {
     "data": {
      "text/plain": [
       "<IPython.core.display.HTML object>"
      ],
      "text/html": []
     },
     "metadata": {},
     "output_type": "display_data"
    },
    {
     "data": {
      "text/plain": [
       "<IPython.core.display.HTML object>"
      ],
      "text/html": [
       "<br>    <style><br>        .wandb-row {<br>            display: flex;<br>            flex-direction: row;<br>            flex-wrap: wrap;<br>            justify-content: flex-start;<br>            width: 100%;<br>        }<br>        .wandb-col {<br>            display: flex;<br>            flex-direction: column;<br>            flex-basis: 100%;<br>            flex: 1;<br>            padding: 10px;<br>        }<br>    </style><br><div class=\"wandb-row\"><div class=\"wandb-col\"><h3>Run history:</h3><br/><table class=\"wandb\"><tr><td>epoch</td><td>▁▅█</td></tr><tr><td>meta_loss</td><td>█▁▂</td></tr><tr><td>new_task_loss</td><td>▁</td></tr></table><br/></div><div class=\"wandb-col\"><h3>Run summary:</h3><br/><table class=\"wandb\"><tr><td>epoch</td><td>3</td></tr><tr><td>meta_loss</td><td>1.55464</td></tr><tr><td>new_task_loss</td><td>0.22104</td></tr></table><br/></div></div>"
      ]
     },
     "metadata": {},
     "output_type": "display_data"
    },
    {
     "data": {
      "text/plain": [
       "<IPython.core.display.HTML object>"
      ],
      "text/html": [
       " View run <strong style=\"color:#cdcd00\">maml-yelp-few-shot</strong> at: <a href='https://wandb.ai/kostic-stojan23-university-of-belgrade/few-shot-yelp/runs/0bdco63p' target=\"_blank\">https://wandb.ai/kostic-stojan23-university-of-belgrade/few-shot-yelp/runs/0bdco63p</a><br> View project at: <a href='https://wandb.ai/kostic-stojan23-university-of-belgrade/few-shot-yelp' target=\"_blank\">https://wandb.ai/kostic-stojan23-university-of-belgrade/few-shot-yelp</a><br>Synced 5 W&B file(s), 0 media file(s), 0 artifact file(s) and 0 other file(s)"
      ]
     },
     "metadata": {},
     "output_type": "display_data"
    },
    {
     "data": {
      "text/plain": [
       "<IPython.core.display.HTML object>"
      ],
      "text/html": [
       "Find logs at: <code>.\\wandb\\run-20250122_210920-0bdco63p\\logs</code>"
      ]
     },
     "metadata": {},
     "output_type": "display_data"
    }
   ],
   "execution_count": 9
  },
  {
   "metadata": {},
   "cell_type": "code",
   "outputs": [],
   "execution_count": null,
   "source": "",
   "id": "9a01da96841de3db"
  }
 ],
 "metadata": {
  "kernelspec": {
   "display_name": "Python 3",
   "language": "python",
   "name": "python3"
  },
  "language_info": {
   "codemirror_mode": {
    "name": "ipython",
    "version": 2
   },
   "file_extension": ".py",
   "mimetype": "text/x-python",
   "name": "python",
   "nbconvert_exporter": "python",
   "pygments_lexer": "ipython2",
   "version": "2.7.6"
  }
 },
 "nbformat": 4,
 "nbformat_minor": 5
}
