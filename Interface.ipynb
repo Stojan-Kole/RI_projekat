{
 "cells": [
  {
   "cell_type": "code",
   "id": "initial_id",
   "metadata": {
    "collapsed": true,
    "ExecuteTime": {
     "end_time": "2025-02-06T13:41:59.425978Z",
     "start_time": "2025-02-06T13:41:46.457794Z"
    }
   },
   "source": [
    "import tkinter as tk\n",
    "from tkinter import messagebox\n",
    "import torch\n",
    "from transformers import DistilBertForSequenceClassification, DistilBertTokenizer"
   ],
   "outputs": [],
   "execution_count": 1
  },
  {
   "metadata": {
    "ExecuteTime": {
     "end_time": "2025-02-06T13:41:59.554173Z",
     "start_time": "2025-02-06T13:41:59.430620Z"
    }
   },
   "cell_type": "code",
   "source": [
    "model_path = \"./NLP_MAML_model\"\n",
    "maml_model = DistilBertForSequenceClassification.from_pretrained(model_path)\n",
    "tokenizer = DistilBertTokenizer.from_pretrained(model_path)"
   ],
   "id": "59bf3d9baa2fa321",
   "outputs": [],
   "execution_count": 2
  },
  {
   "metadata": {
    "ExecuteTime": {
     "end_time": "2025-02-06T13:42:00.500080Z",
     "start_time": "2025-02-06T13:42:00.168204Z"
    }
   },
   "cell_type": "code",
   "source": [
    "device = torch.device(\"cuda\" if torch.cuda.is_available() else \"cpu\")\n",
    "maml_model.to(device)"
   ],
   "id": "3466bc47dbd5c1c3",
   "outputs": [
    {
     "data": {
      "text/plain": [
       "DistilBertForSequenceClassification(\n",
       "  (distilbert): DistilBertModel(\n",
       "    (embeddings): Embeddings(\n",
       "      (word_embeddings): Embedding(30522, 768, padding_idx=0)\n",
       "      (position_embeddings): Embedding(512, 768)\n",
       "      (LayerNorm): LayerNorm((768,), eps=1e-12, elementwise_affine=True)\n",
       "      (dropout): Dropout(p=0.1, inplace=False)\n",
       "    )\n",
       "    (transformer): Transformer(\n",
       "      (layer): ModuleList(\n",
       "        (0-5): 6 x TransformerBlock(\n",
       "          (attention): DistilBertSdpaAttention(\n",
       "            (dropout): Dropout(p=0.1, inplace=False)\n",
       "            (q_lin): Linear(in_features=768, out_features=768, bias=True)\n",
       "            (k_lin): Linear(in_features=768, out_features=768, bias=True)\n",
       "            (v_lin): Linear(in_features=768, out_features=768, bias=True)\n",
       "            (out_lin): Linear(in_features=768, out_features=768, bias=True)\n",
       "          )\n",
       "          (sa_layer_norm): LayerNorm((768,), eps=1e-12, elementwise_affine=True)\n",
       "          (ffn): FFN(\n",
       "            (dropout): Dropout(p=0.1, inplace=False)\n",
       "            (lin1): Linear(in_features=768, out_features=3072, bias=True)\n",
       "            (lin2): Linear(in_features=3072, out_features=768, bias=True)\n",
       "            (activation): GELUActivation()\n",
       "          )\n",
       "          (output_layer_norm): LayerNorm((768,), eps=1e-12, elementwise_affine=True)\n",
       "        )\n",
       "      )\n",
       "    )\n",
       "  )\n",
       "  (pre_classifier): Linear(in_features=768, out_features=768, bias=True)\n",
       "  (classifier): Linear(in_features=768, out_features=2, bias=True)\n",
       "  (dropout): Dropout(p=0.2, inplace=False)\n",
       ")"
      ]
     },
     "execution_count": 3,
     "metadata": {},
     "output_type": "execute_result"
    }
   ],
   "execution_count": 3
  },
  {
   "metadata": {
    "ExecuteTime": {
     "end_time": "2025-02-06T13:42:00.548965Z",
     "start_time": "2025-02-06T13:42:00.542405Z"
    }
   },
   "cell_type": "code",
   "source": [
    "def evaluate_sentiment():\n",
    "\n",
    "    input_text = entry.get(\"1.0\", \"end-1c\")\n",
    "\n",
    "    if not input_text.strip():\n",
    "        messagebox.showwarning(\"Input Error\", \"Please enter a sentence to evaluate!\")\n",
    "        return\n",
    "\n",
    "    inputs = tokenizer(input_text, padding=True, truncation=True, return_tensors=\"pt\", max_length=512)\n",
    "\n",
    "    inputs = {key: value.to(device) for key, value in inputs.items()}\n",
    "\n",
    "    with torch.no_grad():\n",
    "        outputs = maml_model(**inputs)\n",
    "        logits = outputs.logits\n",
    "        predictions = torch.argmax(logits, dim=1)\n",
    "\n",
    "    if predictions[0] == 1:\n",
    "        result_label.config(text=\"Sentiment: Positive\", fg=\"green\")\n",
    "    else:\n",
    "        result_label.config(text=\"Sentiment: Negative\", fg=\"red\")"
   ],
   "id": "2a5c268e53e71539",
   "outputs": [],
   "execution_count": 4
  },
  {
   "metadata": {
    "ExecuteTime": {
     "end_time": "2025-02-06T13:44:30.707590Z",
     "start_time": "2025-02-06T13:42:00.568603Z"
    }
   },
   "cell_type": "code",
   "source": [
    "root = tk.Tk()\n",
    "root.title(\"Sentiment Analysis\")\n",
    "\n",
    "root.geometry(\"500x500\")\n",
    "\n",
    "entry = tk.Text(root, height=15, width=50)\n",
    "entry.pack(pady=20)\n",
    "\n",
    "sentiment_button = tk.Button(root, text=\"Analyze Sentiment\", command=evaluate_sentiment)\n",
    "sentiment_button.pack(pady=10)\n",
    "\n",
    "result_label = tk.Label(root, text=\"Sentiment: \", font=(\"Helvetica\", 14))\n",
    "result_label.pack(pady=10)\n",
    "\n",
    "root.mainloop()"
   ],
   "id": "8e8dc3db625ab556",
   "outputs": [],
   "execution_count": 5
  }
 ],
 "metadata": {
  "kernelspec": {
   "display_name": "Python 3",
   "language": "python",
   "name": "python3"
  },
  "language_info": {
   "codemirror_mode": {
    "name": "ipython",
    "version": 2
   },
   "file_extension": ".py",
   "mimetype": "text/x-python",
   "name": "python",
   "nbconvert_exporter": "python",
   "pygments_lexer": "ipython2",
   "version": "2.7.6"
  }
 },
 "nbformat": 4,
 "nbformat_minor": 5
}
