{
 "cells": [
  {
   "cell_type": "code",
   "id": "initial_id",
   "metadata": {
    "collapsed": true,
    "ExecuteTime": {
     "end_time": "2025-02-06T17:26:43.748160Z",
     "start_time": "2025-02-06T17:26:41.203665Z"
    }
   },
   "source": "from datasets import load_dataset",
   "outputs": [],
   "execution_count": 1
  },
  {
   "metadata": {
    "ExecuteTime": {
     "end_time": "2025-02-06T17:28:27.650133Z",
     "start_time": "2025-02-06T17:28:20.959604Z"
    }
   },
   "cell_type": "code",
   "source": [
    "imdb = load_dataset(\"imdb\")\n",
    "imdb"
   ],
   "id": "b6fe6ff0ffb50dea",
   "outputs": [
    {
     "data": {
      "text/plain": [
       "DatasetDict({\n",
       "    train: Dataset({\n",
       "        features: ['text', 'label'],\n",
       "        num_rows: 25000\n",
       "    })\n",
       "    test: Dataset({\n",
       "        features: ['text', 'label'],\n",
       "        num_rows: 25000\n",
       "    })\n",
       "    unsupervised: Dataset({\n",
       "        features: ['text', 'label'],\n",
       "        num_rows: 50000\n",
       "    })\n",
       "})"
      ]
     },
     "execution_count": 5,
     "metadata": {},
     "output_type": "execute_result"
    }
   ],
   "execution_count": 5
  },
  {
   "metadata": {
    "ExecuteTime": {
     "end_time": "2025-02-06T17:28:07.057782Z",
     "start_time": "2025-02-06T17:27:59.746494Z"
    }
   },
   "cell_type": "code",
   "source": [
    "yelp = load_dataset(\"yelp_polarity\")\n",
    "yelp"
   ],
   "id": "b6bfce9f2d11dd3a",
   "outputs": [
    {
     "data": {
      "text/plain": [
       "DatasetDict({\n",
       "    train: Dataset({\n",
       "        features: ['text', 'label'],\n",
       "        num_rows: 560000\n",
       "    })\n",
       "    test: Dataset({\n",
       "        features: ['text', 'label'],\n",
       "        num_rows: 38000\n",
       "    })\n",
       "})"
      ]
     },
     "execution_count": 3,
     "metadata": {},
     "output_type": "execute_result"
    }
   ],
   "execution_count": 3
  },
  {
   "metadata": {
    "ExecuteTime": {
     "end_time": "2025-02-06T17:28:12.021299Z",
     "start_time": "2025-02-06T17:28:08.938681Z"
    }
   },
   "cell_type": "code",
   "source": [
    "sentiment140 = load_dataset(\"sentiment140\")\n",
    "sentiment140"
   ],
   "id": "2c032f05a255a71f",
   "outputs": [
    {
     "data": {
      "text/plain": [
       "DatasetDict({\n",
       "    train: Dataset({\n",
       "        features: ['text', 'date', 'user', 'sentiment', 'query'],\n",
       "        num_rows: 1600000\n",
       "    })\n",
       "    test: Dataset({\n",
       "        features: ['text', 'date', 'user', 'sentiment', 'query'],\n",
       "        num_rows: 498\n",
       "    })\n",
       "})"
      ]
     },
     "execution_count": 4,
     "metadata": {},
     "output_type": "execute_result"
    }
   ],
   "execution_count": 4
  },
  {
   "metadata": {
    "ExecuteTime": {
     "end_time": "2025-02-06T17:29:10.024309Z",
     "start_time": "2025-02-06T17:29:04.589302Z"
    }
   },
   "cell_type": "code",
   "source": [
    "amazon = load_dataset(\"amazon_polarity\")\n",
    "amazon"
   ],
   "id": "341fdd7377d410f5",
   "outputs": [
    {
     "data": {
      "text/plain": [
       "DatasetDict({\n",
       "    train: Dataset({\n",
       "        features: ['label', 'title', 'content'],\n",
       "        num_rows: 3600000\n",
       "    })\n",
       "    test: Dataset({\n",
       "        features: ['label', 'title', 'content'],\n",
       "        num_rows: 400000\n",
       "    })\n",
       "})"
      ]
     },
     "execution_count": 7,
     "metadata": {},
     "output_type": "execute_result"
    }
   ],
   "execution_count": 7
  }
 ],
 "metadata": {
  "kernelspec": {
   "display_name": "Python 3",
   "language": "python",
   "name": "python3"
  },
  "language_info": {
   "codemirror_mode": {
    "name": "ipython",
    "version": 2
   },
   "file_extension": ".py",
   "mimetype": "text/x-python",
   "name": "python",
   "nbconvert_exporter": "python",
   "pygments_lexer": "ipython2",
   "version": "2.7.6"
  }
 },
 "nbformat": 4,
 "nbformat_minor": 5
}
